{
 "cells": [
  {
   "cell_type": "markdown",
   "id": "1478b9c2",
   "metadata": {},
   "source": [
    "# Jeremy Giffen\n",
    "## Assignment 1\n",
    "### Version 1\n",
    "### Fall 2023"
   ]
  },
  {
   "cell_type": "markdown",
   "id": "fbec0e9c",
   "metadata": {},
   "source": [
    "# Jeremy Giffen\n",
    "### Im a Junior Actuarial Science Major.  I've always been interested in coding because of how useful a tool it is.\n",
    "* Programming Assignments\n",
    "* Quizzes\n",
    "* Attendence/In Class Completed Work\n",
    "* Mid Term Exam (2)\n",
    "* Project (2)\n",
    "1. Course Introduction\n",
    "2. Variables and Simple Data Types\n",
    "3. Lists/Tuples\n",
    "4. If Statements\n",
    "5. Dictionaries\n",
    "6. Loops\n",
    "7. Functions\n",
    "8. Classes\n",
    "9. Numpy\n",
    "\n",
    "**Spanish**\n",
    "\n",
    "*Anaconda Python/Github*\n",
    "\n",
    "A `block of words` in a sentence.\n",
    "\n",
    "<a href=\"https://github.com/JGiffen\">Github</a>\n",
    "    \n",
    "![Bellarmine Logo](https://content.sportslogos.net/logos/30/6811/full/bellarmine_knights_logo_secondary_2010_sportslogosnet-6115.png)\n",
    "\n",
    ">In this markdown practice I learned how to use every type of markdown that was needed.  I should be able to do these commands without reference after this practice.  The hyperlink was the most confusing one, but I have that learned as well now."
   ]
  },
  {
   "cell_type": "code",
   "execution_count": null,
   "id": "ac4c1707",
   "metadata": {},
   "outputs": [],
   "source": []
  }
 ],
 "metadata": {
  "kernelspec": {
   "display_name": "Python 3 (ipykernel)",
   "language": "python",
   "name": "python3"
  },
  "language_info": {
   "codemirror_mode": {
    "name": "ipython",
    "version": 3
   },
   "file_extension": ".py",
   "mimetype": "text/x-python",
   "name": "python",
   "nbconvert_exporter": "python",
   "pygments_lexer": "ipython3",
   "version": "3.11.4"
  }
 },
 "nbformat": 4,
 "nbformat_minor": 5
}
